{
 "cells": [
  {
   "cell_type": "markdown",
   "metadata": {},
   "source": [
    "### graph data modeling"
   ]
  },
  {
   "cell_type": "markdown",
   "metadata": {},
   "source": [
    "learn\n",
    "    what data modeling is?\n",
    "    \n",
    "    why model?\n",
    "    - design graph that is:\n",
    "      - answer the key use cases fpr the application\n",
    "      - provide best Cypher query performance\n",
    "    - How to create a model\n",
    "    - 1. understand the domain and define specific use cases for application \n",
    "    - 2. develop the initial graph data model:\n",
    "      - a. model the node (entities)\n",
    "      - b. model relationships between the nodes\n",
    "    - 3. Test the use cases agains the initial model\n",
    "    - 4. Create the grap (instance model) against the use case\n",
    "    - 5. Test the use cases, including performance against the graph\n",
    "    - 6. refactor (improve) the graph data model due to a change in the key use cases or for performance\n",
    "    - 7. implement refactoring and retest.\n",
    "\n",
    "    As graphs scale - refactoring will typically need to accomadte lareger size"
   ]
  },
  {
   "cell_type": "markdown",
   "metadata": {},
   "source": [
    "### the domain"
   ]
  },
  {
   "cell_type": "markdown",
   "metadata": {},
   "source": [
    "# understand the domain of your use case\n",
    "    * understand stakeholder and developers\n",
    "      * do they understand the processes/app?\n",
    "      * write app details in use\n",
    "      * identify the users of the application (people,systems)\n",
    "      * agree upon use cases for the application\n",
    "      * RANK the importance of use cases\n",
    "\n",
    "# use cases for the movie graph used in this course\n",
    "    * what people acted in a movie?\n",
    "    * what person directed a movie?\n",
    "    * what movies did a person act in?\n",
    "    * how many users rated a movie?\n",
    "    * who was the youngest person to act in a movie?\n",
    "    * what role did someone play in a movie?\n",
    "    * what was the highest rated movie in a year 'x' according to imdb?\n",
    "    * what drama movies did actor y act in?\n",
    "    * what users gave movie m a 5.0 review?\n",
    "\n",
    "# differentiate "
   ]
  },
  {
   "cell_type": "markdown",
   "metadata": {},
   "source": [
    "### Models in grpah"
   ]
  },
  {
   "cell_type": "markdown",
   "metadata": {},
   "source": [
    "# data model\n",
    "    labels, relationships, properties of graph\n",
    "    no exact data\n",
    "    relationships connect the nodes to each other.\n",
    "    Nodes have properties\n",
    "    agree how labels/properties/relationships assigned\n",
    "\n",
    "        Best practice:\n",
    "            - Label\n",
    "              - single identifier that begins with a capital letter - can be camel cased : Person, Movie, GitHubRepo\n",
    "            - Relationship type:\n",
    "              - single identifier that is in ALL_CAPS and underscore separated \n",
    "              - ex. FARTED_ON\n",
    "            - Property key:\n",
    "              - single identifier for a node or identifier; begins with lower-case letter, can be camel-cased. \n",
    "                - ex. firstName\n",
    "                - does not need to be unique!\n",
    "\n",
    "# instance model\n",
    "instance \n"
   ]
  },
  {
   "cell_type": "markdown",
   "metadata": {},
   "source": [
    "### modeling Nodes"
   ]
  },
  {
   "cell_type": "markdown",
   "metadata": {},
   "source": [
    "# define labels\n",
    "\n",
    "    Start with Dominant entities in use cases\n",
    "        - what ingredients are used in a recipe?\n",
    "        - who is married to which person?\n",
    "    - labels determine how nodes are specified\n",
    "\n",
    "    Nodes:\n",
    "      - node properties do the following:\n",
    "        - identify a node\n",
    "        - answer specific details of the use case of application \n",
    "        - return property values\n",
    "\n",
    "\n",
    "\n",
    "  # this creates the following nodes - but no relationships : yet\n",
    "\n",
    "        MATCH (n) DETACH DELETE n;\n",
    "\n",
    "        MERGE (:Movie {title: 'Apollo 13', tmdbId: 568, released: '1995-06-30', imdbRating: 7.6, genres: ['Drama', 'Adventure', 'IMAX']})\n",
    "        MERGE (:Person {name: 'Tom Hanks', tmdbId: 31, born: '1956-07-09'})\n",
    "        MERGE (:Person {name: 'Meg Ryan', tmdbId: 5344, born: '1961-11-19'})\n",
    "        MERGE (:Person {name: 'Danny DeVito', tmdbId: 518, born: '1944-11-17'})\n",
    "        MERGE (:Person {name: 'Jack Nicholson', tmdbId: 514, born: '1937-04-22'})\n",
    "        MERGE (:Movie {title: 'Sleepless in Seattle', tmdbId: 858, released: '1993-06-25', imdbRating: 6.8, genres: ['Comedy', 'Drama', 'Romance']})\n",
    "        MERGE (:Movie {title: 'Hoffa', tmdbId: 10410, released: '1992-12-25', imdbRating: 6.6, genres: ['Crime', 'Drama']})\n",
    "\n",
    "  # this will allow you to input multiple users at the same time\n",
    "\n",
    "      UNWIND [{userId: 534, name: 'Sandy Jones'}, {userId: 105, name: 'Clinton Spencer'}] AS  # create JSON element of items in a list!\n",
    "      MERGE (u:User {userId: userData.userId, name: userData.name}) # merge them based on the keys\n"
   ]
  },
  {
   "cell_type": "markdown",
   "metadata": {},
   "source": [
    "\n",
    "### Modeling relationships in your graphs\n"
   ]
  },
  {
   "cell_type": "markdown",
   "metadata": {},
   "source": [
    "\n",
    "Connections are the <u>verbs</u> in your use cases:\n",
    "    - choosing good names is super important\n",
    "      - direction is either implied by l - t - r\n",
    "      - or done in the creation\n",
    "  \n",
    "  # FAN OUT\n",
    "  - Linked nodes\n",
    "    - who has the last name scott?\n",
    "  - This leads to VERY dense nodes \n",
    "\n",
    "# Enriching a relationship\n",
    "    - give properties to an actual relationship!\n",
    "      - use case asks specific question on how two nodes are related to each other\n",
    "      - properties can be added to relationship to further describe it\n",
    "      - specific for ONLY these 2 nodes!\n",
    "\n",
    "# This starts creating the movie graph \n",
    "        MATCH (apollo:Movie {title: 'Apollo 13'})\n",
    "        MATCH (tom:Person {name: 'Tom Hanks'})\n",
    "        MATCH (meg:Person {name: 'Meg Ryan'})\n",
    "        MATCH (danny:Person {name: 'Danny DeVito'})\n",
    "        MATCH (sleep:Movie {title: 'Sleepless in Seattle'})\n",
    "        MATCH (hoffa:Movie {title: 'Hoffa'})\n",
    "        MATCH (jack:Person {name: 'Jack Nicholson'})\n",
    "\n",
    "        // create the relationships between nodes\n",
    "        MERGE (tom)-[:ACTED_IN {role: 'Jim Lovell'}]->(apollo)\n",
    "        MERGE (tom)-[:ACTED_IN {role: 'Sam Baldwin'}]->(sleep)\n",
    "        MERGE (meg)-[:ACTED_IN {role: 'Annie Reed'}]->(sleep)\n",
    "        MERGE (danny)-[:ACTED_IN {role: 'Bobby Ciaro'}]->(hoffa)\n",
    "        MERGE (danny)-[:DIRECTED]->(hoffa)\n",
    "        MERGE (jack)-[:ACTED_IN {role: 'Jimmy Hoffa'}]->(hoffa)"
   ]
  },
  {
   "cell_type": "markdown",
   "metadata": {},
   "source": [
    "# get aggregations\n",
    "        this gets avg review by reviewer amd # of reviews\n",
    "        MATCH (u:User) -[r:RATED]->(m:Movie)  RETURN u.name, count(*) as `num_ratings`, avg(r.rating) as `avg_rating`\n",
    "\n",
    "# get this for every movie\n",
    "        MATCH (u:User) -[r:RATED]->(m:Movie)   RETURN u.name, count(*) as `num_ratings`, round(avg(r.rating),2)  as `avg_rating`, m.title order by u.name, m.title\n",
    "\n"
   ]
  },
  {
   "cell_type": "markdown",
   "metadata": {},
   "source": [
    "### Testing the model"
   ]
  },
  {
   "cell_type": "markdown",
   "metadata": {},
   "source": [
    "# test against instance model\n",
    "    design with\n",
    "        - arrows app\n",
    "        - whiteboard\n",
    "        - paper\n",
    "- write out the results that you expect from your whiteboarding and other work : then stress test it against the actual results\n",
    "- this will help you know what data you want add into your use cases\n",
    "  - graph may need to be refactored\n",
    "\n",
    "Scalability the biggest way to test functionality\n",
    "- how will qu`ery run with millions of nodes and relationships?\n",
    "  \n",
    "# example\n",
    "# return the actors in sleepless in seattle\n",
    "    match (p:Person) -[:ACTED_IN]->(m:Movie) where lower(m.title) =~ '^sleepl.*' return p.name\n",
    "\n",
    "# count distinct people nodes\n",
    "# this is a good template for counting distinct relationships in your graph!\n",
    "    match (p:Person) return count(p)\n",
    "\n",
    "# return if item IN a list\n",
    "    MATCH (p:Person)-[:ACTED_IN]-(m:Movie)\n",
    "    WHERE p.name = 'Tom Hanks' AND\n",
    "    'Drama' IN m.genres\n",
    "    RETURN m.title AS Movie"
   ]
  },
  {
   "cell_type": "markdown",
   "metadata": {},
   "source": [
    "### Refactoring"
   ]
  },
  {
   "cell_type": "markdown",
   "metadata": {},
   "source": [
    "# why need to refactor?\n",
    "    - change the data model or graph\n",
    "      - nodes labeled\n",
    "      - relationships\n",
    "      - graph does not answer all use cases\n",
    "      - new use case has come up we must account for\n",
    "      - Cypher for use case does not perform optimally when scaled\n",
    "    - 1. design new data model\n",
    "    - 2. cypher to transform existing graph to new model\n",
    "    - 3. retest use cases"
   ]
  },
  {
   "cell_type": "markdown",
   "metadata": {},
   "source": [
    "### Labels in the graph"
   ]
  },
  {
   "cell_type": "markdown",
   "metadata": {},
   "source": [
    "# node labels:\n",
    "    - anchor in query \n",
    "      - subset of 1+ nodes from which to start a query \n",
    "      - reduce size of graph that is touched by query\n",
    "      - if there is also a label \n",
    "        - MATCH (n:US) return n # returns all us nodes which happen to be all person nodes\n",
    "        - you cannot parametrize the label, so keeping it a parameter is more flexible\n",
    "        - strong use case of multiple labels in node - do so/.\n",
    "        - limit labels for node to 4 or less\n",
    "          - and if A FEATURE FOF A NODE WILL SUFFICE - do not MAKE the item a label\n",
    "  \n",
    "  # possible use case for 2d label\n",
    "\n",
    "    MATCH (p:Person)-[:ACTED_IN] -()\n",
    "    WHERE p.born < 1950 \n",
    "    RETURN p.name\n",
    "\n",
    "    this does:\n",
    "        - a node by label scan to return all people nodes\n",
    "        - tests the born property and filters\n",
    "        - then makes sure there is acted in relationship\n",
    "        - then returns the name\n",
    "\n",
    "    PROPERTY     \n",
    "        MATCH (p:Person)-[:ACTED_IN] -()\n",
    "        WHERE p.born < 1950 \n",
    "        RETURN p.name\n",
    "\n",
    "CACHED INSTANCES CAN BNOT BE COMPARED\n",
    "but you can see the rows of returned at each step\n",
    "\n",
    "Can change data model to have an actor label like so\n",
    "\n",
    "    match (p:Person) # matches all person\n",
    "    WHERE exists((p)-[ACTED_IN]-()) # with acted in relationship\n",
    "    SET p.Actor # add actor label to the node"
   ]
  },
  {
   "cell_type": "markdown",
   "metadata": {},
   "source": [
    "### Example"
   ]
  },
  {
   "cell_type": "markdown",
   "metadata": {},
   "source": [
    "        # limit based on a filter in the node\n",
    "        PROFILE MATCH (p:Person)-[:ACTED_IN]-()\n",
    "        WHERE p.born < '1950'\n",
    "        RETURN p.name\n",
    "\n",
    "        THIS SHOWS THE qUERY RESULTS\n",
    "\n",
    "        BUT if you add the new label of actor\n",
    "            MATCH (p:Person)\n",
    "            WHERE exists ((p)-[:ACTED_IN]-())\n",
    "            SET p:Actor\n",
    "\n",
    "        \n",
    "        You can hen limit the amt of data queried \n",
    "            PROFILE MATCH (p:Actor)-[:ACTED_IN]-() this is ONLY the nodes that have a Actor label\n",
    "            WHERE p.born < '1950'\n",
    "            RETURN p.name"
   ]
  },
  {
   "cell_type": "markdown",
   "metadata": {},
   "source": [
    "### Retesting after refactor"
   ]
  },
  {
   "cell_type": "markdown",
   "metadata": {},
   "source": [
    "# what to do after refactor\n",
    "\n",
    "    1. Identify use cases affected by refactor\n",
    "    2. rewrite cypher to ensure correct results\n",
    "    3. ensure all queries unaffected return same results as prior\n",
    "    4. PROFILE queries to determine if refactoring helped\n",
    "\n",
    "# ENSURE that actors are tagged accordingly\n",
    "    MATCH (p:Actor) -[:ACTED_IN]->(n) return p.name\n",
    "\n",
    "# see which movies actors acted in \n",
    "    MATCH (p:Actor) -[:ACTED_IN]->(m:Movie) return m.title\n",
    "\n",
    "# Return only the youngest actor\n",
    "    MATCH (q:Actor) -[:ACTED_IN]->()  return q.name, q.born  order by q.born desc limit 1\n",
    "\n",
    "    OR\n",
    "\n",
    "    MATCH (q:Actor) with max(q.born) as youngest MATCH (q:Actor) -[:ACTED_IN]->()  where q.born = youngest return q.name, q.born\n",
    "\n",
    "    AND this gets the role as well\n",
    "\n",
    "    MATCH (q:Actor) with max(q.born) as youngest MATCH (q:Actor) -[r:ACTED_IN]->(m:Movie)  where q.born = youngest return q.name, q.born, r.role\n",
    "\n",
    "    and this is youngest actor in a drama\n",
    "\n",
    "    MATCH (q:Actor) -[r:ACTED_IN]->(m:Movie)  WITH max(q.born) as youngest  \n",
    "    MATCH (q:Actor) -[r:ACTED_IN]->(m:Movie) \n",
    "    WHERE lower('Drama') in [genre in m.genres|lower(genre)] \n",
    "    AND q.born = youngest \n",
    "    RETURN q.name, q.born, r.role\n",
    "\n",
    "    # this sets the new label for Director\n",
    "\n",
    "    MATCH (p:Person)-[:DIRECTED]->() set p:Director"
   ]
  },
  {
   "cell_type": "markdown",
   "metadata": {},
   "source": []
  }
 ],
 "metadata": {
  "language_info": {
   "name": "python"
  }
 },
 "nbformat": 4,
 "nbformat_minor": 2
}
