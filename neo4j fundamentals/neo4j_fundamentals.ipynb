{
 "cells": [
  {
   "cell_type": "markdown",
   "metadata": {},
   "source": [
    "### neo4j fun - damentals"
   ]
  },
  {
   "cell_type": "markdown",
   "metadata": {},
   "source": [
    "Graph thinking\n",
    "1736 Leonhard Euler : trying to solve \n",
    "how to traverse city with 7 bridges, but cross each bridge only 1 time!\n",
    "    - walk through the city - crossing each bridge only once!\n",
    "      -  land masses not as important as bridges    \n",
    "         -  bridges: edges \n",
    "  good for analyzing data!\n",
    "  - connections between records and see the true power of data!\n",
    "    - root binding\n",
    "    - supply chain\n",
    "    - rec engines"
   ]
  },
  {
   "cell_type": "markdown",
   "metadata": {},
   "source": [
    "### graph elements "
   ]
  },
  {
   "cell_type": "markdown",
   "metadata": {},
   "source": [
    "Two elements:\n",
    " - Nodes : vertices - circles on graphs, objects relationships or things\n",
    "   - social graph : have relationship of differing strengths\n",
    "     - Michael/Sarah\n",
    "       - each one of them is a Node, where the work is a node, subway line is a Node\n",
    "       - On their own,  nodes are just names and are boring\n",
    " - Edges : used to connect nodes - describe how NODES are related to each other\n",
    "   - Verbs that connect Nodes together\n",
    "     - Michael ---(married_to) -----> sarah\n",
    "       - Sarah ---works_at---> Graph Inc\n",
    "       - Hans ---works_at---> Graph Inc\n",
    "         - we might infer thatHans and michael know each other\n",
    "           - can we then say Hans knows Sarah? How more likely?\n",
    "  "
   ]
  },
  {
   "cell_type": "markdown",
   "metadata": {},
   "source": [
    "### graph structure"
   ]
  },
  {
   "cell_type": "markdown",
   "metadata": {},
   "source": [
    "In an undirected graph:\n",
    "  - michael ---maried_to---> sarah\n",
    "      - directions are symmetric/bidirectional\n",
    "      - michael married_to sarah AND sarah married_to michael\n",
    "      - relationship can have multiple dimensions:\n",
    "        - sarah loves (strength = 9) michael, michael LOVES sarah (strength = 7)\n",
    "        - weighted graph, relationship between nodes carry measures.\n",
    "          - shortest graph algo would find fastes walking route \n",
    "            - weighting property can be used to weight areas and tell us the best option\n",
    "              - cost can be an issue, and then the sea can be used as the main option \n",
    "Find shortest path:\n",
    "    - need to traverse each path\n",
    "      - calculate the total distance\n",
    "        - find the minimum \n",
    "        - traversal: relationships followed\n",
    "          - traversed >1 times? node visited >1?\n",
    "            - cypher language is written so that nodes are not traversed >1, huge performance win"
   ]
  },
  {
   "cell_type": "markdown",
   "metadata": {},
   "source": [
    "### Property graphs "
   ]
  },
  {
   "cell_type": "markdown",
   "metadata": {},
   "source": [
    "Graph Elements :\n",
    "    - nodes (Can have a label - belong to a subset of nodes)\n",
    "      - Nodes that represent certain features - i.e. people, companies, etc. can be colored and have those labels (the name of company/person etc.)\n",
    "        - nodes can have  0 or many labels\n",
    "  - properties:\n",
    "    - key/value pairs : added or removed at any point.\n",
    "      - firstName: Michael , lastName:Faraday, born: '1791-09-22'\n",
    "        - if property does not exist in Node, considered null\n",
    "  - Relationships in Node : \n",
    "    - Have a direction, but can be queried in either direction or ignored\n",
    "      - directive/undrioective direction of married_toi must exist and have a direction \n",
    "      - these are important in terms of heirarchy\n",
    "      - type. which relationship in direction. can also have distanceweights\n",
    "      - property in married_to to give date  "
   ]
  },
  {
   "cell_type": "markdown",
   "metadata": {},
   "source": [
    "### Native Graph Advantage"
   ]
  },
  {
   "cell_type": "markdown",
   "metadata": {},
   "source": [
    "index Free adjacency:\n",
    "    - everything from storage to serving language -> traversal\n",
    "      - index-free adjacency\n",
    "      - reference in relationship in nodes at each end\n",
    "      - each relationship added in memory\n",
    "  - index-free adjacency:\n",
    "    - need to build query plans for each clause, new db read, new index lookup\n",
    "    - nodes-relationshups -> objects related to each other in pointers\n",
    "      - - plan the query on anchor\n",
    "      - - use index on anchor\n",
    "      - follow pointers\n",
    "- benefits:\n",
    "  - fewer index lookups\n",
    "  - reduced data duplication\n",
    "  - no table scans  \n",
    "  \n",
    "  "
   ]
  },
  {
   "cell_type": "markdown",
   "metadata": {},
   "source": [
    "### reprersent relational db as a graph"
   ]
  },
  {
   "cell_type": "markdown",
   "metadata": {},
   "source": [
    "- relationships are stored at write in a NoSQL database\n",
    "  - Joins are run in the READ portion\n",
    "  - as records go up, query time goes up\n",
    "- query inb NoSQL db is always cost at the size of the data needed\n",
    "  - data in NoSQLis treated as a first-class citizen\n",
    "    - relationships in graph easier to do in graph than pivot tables\n",
    "\n",
    "northwinds rdbms database - a HORRIFIC setup with type one odd tables all over the place\n",
    "    - order details needed for every order, when wanting the m-to-m relationship info \n",
    "      - in a graph database, you can match the order node to each product node, and store the relationships in the edges (contains)\n",
    "      - no SQL key/value\n",
    "      - document stores \n",
    "    - kEY/VALUE :\n",
    "      - good for high volume lookups. \n",
    "      - when these are interconnected : you have a graph. Neo4j -> traverse graph easily and quickly. how nodes are relted to each other\n",
    "    - Documented:\n",
    "      - tree - this is how we can get very important document/element in the tree -> the relationships occur naturally\n"
   ]
  },
  {
   "cell_type": "markdown",
   "metadata": {},
   "source": [
    "### Exploring Neo4j"
   ]
  },
  {
   "cell_type": "markdown",
   "metadata": {},
   "source": [
    "The graph contains nodes labeled Movie and Person.\n",
    "\n",
    "Neo4j includes a query language called Cypher that allows you to query the graph.\n",
    "\n",
    "Run the following Cypher query to return the first 50 Movie nodes in the graph:"
   ]
  },
  {
   "cell_type": "markdown",
   "metadata": {},
   "source": [
    "this will return 50 movies, with their information tied to  it: plot, revenue etc\n",
    "MATCH (m:Movie) RETURN m LIMIT 50\n",
    "\n",
    "This does the same for people node\n",
    "MATCH (p:People) RETURN p LIMIT 50\n",
    "\n",
    "This returns everything from Movies\n",
    "MATCH (m:Movie) RETURN m \n",
    "\n",
    "This select everything about a specific movie!\n",
    "MATCH (m:Movie {title: 'Toy Story'}) RETURN m\n",
    "\n",
    "\n",
    "Relationships\n",
    "The relationships between nodes describe how people are related to movies. For example, Person nodes have ACTED_IN and DIRECTED relationships with Movie nodes.\n",
    "\n",
    "Run this Cypher query to return the Movie node 'Hoffa' and Person nodes with an ACTED_IN relationship to the movie:\n",
    "\n",
    "cypher\n",
    "MATCH (m:Movie {title: 'Hoffa'})<-[r:ACTED_IN]-(p:Person)\n",
    "RETURN m, r, p\n",
    "\n",
    "\n",
    "\n",
    "this will get the names of people who acted in top gun \n",
    "\n",
    "Nodes have properties that describe them. For example, Person nodes have properties like name and born, Movie nodes have properties like title and released.\n",
    "\n",
    "Relationships in Neo4j can also have properties, the ACTED_IN relationship has a role property, storing the person’s role in the movie.\n",
    "\n",
    "Run the following Cypher to return the movie title and person’s name who acted in the movie \"Top Gun\":\n",
    "\n",
    "cypher\n",
    "MATCH (m:Movie {title: 'Top Gun'})<-[r:ACTED_IN]-(p:Person)\n",
    "RETURN m.title, p.name\n",
    "\n",
    "tHIS IS RETURNED AS A TABLE\n",
    "\n",
    "\n",
    "MATCH (m:Movie {title: 'Top Gun'})<-[r:ACTED_IN]-(p:Person)\n",
    "RETURN m.title, p.name, r.role\n",
    "\n",
    "this is the same as\n",
    "select movie.title, person.name, actor.role\n",
    "from the combination of all 3 table\n"
   ]
  },
  {
   "cell_type": "markdown",
   "metadata": {},
   "source": []
  }
 ],
 "metadata": {
  "language_info": {
   "name": "python"
  }
 },
 "nbformat": 4,
 "nbformat_minor": 2
}
